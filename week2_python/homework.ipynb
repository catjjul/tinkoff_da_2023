{
 "cells": [
  {
   "cell_type": "code",
   "execution_count": 1,
   "metadata": {},
   "outputs": [],
   "source": [
    "import random\n",
    "import math\n",
    "\n",
    "import pandas as pd\n",
    "import numpy as np"
   ]
  },
  {
   "cell_type": "code",
   "execution_count": 2,
   "metadata": {},
   "outputs": [],
   "source": [
    "seed = \"АДВИ_2023\"\n",
    "random.seed(a=seed)"
   ]
  },
  {
   "cell_type": "code",
   "execution_count": 3,
   "metadata": {},
   "outputs": [],
   "source": [
    "N = 1000"
   ]
  },
  {
   "cell_type": "code",
   "execution_count": 4,
   "metadata": {},
   "outputs": [],
   "source": [
    "index = list(range(1, N + 1))\n",
    "random.shuffle(index)"
   ]
  },
  {
   "cell_type": "code",
   "execution_count": 5,
   "metadata": {},
   "outputs": [],
   "source": [
    "groups = random.choices([\"группа_1\", \"группа_2\", \"группа_3\", \"группа_4\", \"группа_5\"], k=N)"
   ]
  },
  {
   "cell_type": "code",
   "execution_count": 6,
   "metadata": {},
   "outputs": [],
   "source": [
    "uniform = [random.randint(50, 100) for _ in range(N)]"
   ]
  },
  {
   "cell_type": "code",
   "execution_count": 7,
   "metadata": {},
   "outputs": [],
   "source": [
    "gauss_1 = [random.gauss(0, 1) for _ in range(N)]\n",
    "gauss_2 = [random.gauss(0, 12) for _ in range(N)]\n",
    "gauss_3 = [random.gauss(50, 9) for _ in range(N)]"
   ]
  },
  {
   "cell_type": "code",
   "execution_count": 8,
   "metadata": {},
   "outputs": [],
   "source": [
    "df = pd.DataFrame({'groups': groups,\n",
    "                   'uniform': uniform,\n",
    "                   'gauss_1': gauss_1,\n",
    "                   'gauss_2': gauss_2,\n",
    "                   'gauss_3': gauss_3},\n",
    "                  index=index)"
   ]
  },
  {
   "cell_type": "code",
   "execution_count": 9,
   "metadata": {},
   "outputs": [
    {
     "data": {
      "text/html": [
       "<div>\n",
       "<style scoped>\n",
       "    .dataframe tbody tr th:only-of-type {\n",
       "        vertical-align: middle;\n",
       "    }\n",
       "\n",
       "    .dataframe tbody tr th {\n",
       "        vertical-align: top;\n",
       "    }\n",
       "\n",
       "    .dataframe thead th {\n",
       "        text-align: right;\n",
       "    }\n",
       "</style>\n",
       "<table border=\"1\" class=\"dataframe\">\n",
       "  <thead>\n",
       "    <tr style=\"text-align: right;\">\n",
       "      <th></th>\n",
       "      <th>groups</th>\n",
       "      <th>uniform</th>\n",
       "      <th>gauss_1</th>\n",
       "      <th>gauss_2</th>\n",
       "      <th>gauss_3</th>\n",
       "    </tr>\n",
       "  </thead>\n",
       "  <tbody>\n",
       "    <tr>\n",
       "      <th>476</th>\n",
       "      <td>группа_1</td>\n",
       "      <td>95</td>\n",
       "      <td>3.010291</td>\n",
       "      <td>2.156346</td>\n",
       "      <td>57.455851</td>\n",
       "    </tr>\n",
       "    <tr>\n",
       "      <th>315</th>\n",
       "      <td>группа_5</td>\n",
       "      <td>77</td>\n",
       "      <td>0.190277</td>\n",
       "      <td>-9.934550</td>\n",
       "      <td>62.694177</td>\n",
       "    </tr>\n",
       "    <tr>\n",
       "      <th>490</th>\n",
       "      <td>группа_4</td>\n",
       "      <td>96</td>\n",
       "      <td>-0.282161</td>\n",
       "      <td>9.211071</td>\n",
       "      <td>54.688895</td>\n",
       "    </tr>\n",
       "    <tr>\n",
       "      <th>748</th>\n",
       "      <td>группа_3</td>\n",
       "      <td>56</td>\n",
       "      <td>1.127080</td>\n",
       "      <td>-12.391793</td>\n",
       "      <td>30.192353</td>\n",
       "    </tr>\n",
       "    <tr>\n",
       "      <th>471</th>\n",
       "      <td>группа_5</td>\n",
       "      <td>52</td>\n",
       "      <td>-1.238270</td>\n",
       "      <td>10.938748</td>\n",
       "      <td>52.682052</td>\n",
       "    </tr>\n",
       "  </tbody>\n",
       "</table>\n",
       "</div>"
      ],
      "text/plain": [
       "       groups  uniform   gauss_1    gauss_2    gauss_3\n",
       "476  группа_1       95  3.010291   2.156346  57.455851\n",
       "315  группа_5       77  0.190277  -9.934550  62.694177\n",
       "490  группа_4       96 -0.282161   9.211071  54.688895\n",
       "748  группа_3       56  1.127080 -12.391793  30.192353\n",
       "471  группа_5       52 -1.238270  10.938748  52.682052"
      ]
     },
     "execution_count": 9,
     "metadata": {},
     "output_type": "execute_result"
    }
   ],
   "source": [
    "df.head()"
   ]
  },
  {
   "cell_type": "code",
   "execution_count": 10,
   "metadata": {},
   "outputs": [
    {
     "name": "stdout",
     "output_type": "stream",
     "text": [
      "<class 'pandas.core.frame.DataFrame'>\n",
      "Int64Index: 1000 entries, 476 to 587\n",
      "Data columns (total 5 columns):\n",
      " #   Column   Non-Null Count  Dtype  \n",
      "---  ------   --------------  -----  \n",
      " 0   groups   1000 non-null   object \n",
      " 1   uniform  1000 non-null   int64  \n",
      " 2   gauss_1  1000 non-null   float64\n",
      " 3   gauss_2  1000 non-null   float64\n",
      " 4   gauss_3  1000 non-null   float64\n",
      "dtypes: float64(3), int64(1), object(1)\n",
      "memory usage: 46.9+ KB\n"
     ]
    }
   ],
   "source": [
    "df.info()"
   ]
  },
  {
   "cell_type": "code",
   "execution_count": 11,
   "metadata": {},
   "outputs": [],
   "source": [
    "gauss_1_indexes = df[df.index % 121 == 0].index\n",
    "df.loc[gauss_1_indexes, 'gauss_1'] = None"
   ]
  },
  {
   "cell_type": "code",
   "execution_count": 12,
   "metadata": {},
   "outputs": [],
   "source": [
    "df['gauss_2'] = df['gauss_2'].apply(lambda row: None if row > 0 and row - math.floor(row) > 0.95 else row)"
   ]
  },
  {
   "cell_type": "code",
   "execution_count": 13,
   "metadata": {},
   "outputs": [],
   "source": [
    "df['gauss_2'].fillna(df['gauss_2'].mean(), inplace=True)"
   ]
  },
  {
   "cell_type": "code",
   "execution_count": 14,
   "metadata": {},
   "outputs": [],
   "source": [
    "df.dropna(subset='gauss_1', inplace=True)"
   ]
  },
  {
   "cell_type": "code",
   "execution_count": 15,
   "metadata": {},
   "outputs": [
    {
     "data": {
      "text/html": [
       "<div>\n",
       "<style scoped>\n",
       "    .dataframe tbody tr th:only-of-type {\n",
       "        vertical-align: middle;\n",
       "    }\n",
       "\n",
       "    .dataframe tbody tr th {\n",
       "        vertical-align: top;\n",
       "    }\n",
       "\n",
       "    .dataframe thead th {\n",
       "        text-align: right;\n",
       "    }\n",
       "</style>\n",
       "<table border=\"1\" class=\"dataframe\">\n",
       "  <thead>\n",
       "    <tr style=\"text-align: right;\">\n",
       "      <th></th>\n",
       "      <th>groups</th>\n",
       "      <th>uniform</th>\n",
       "      <th>gauss_1</th>\n",
       "      <th>gauss_2</th>\n",
       "      <th>gauss_3</th>\n",
       "    </tr>\n",
       "  </thead>\n",
       "  <tbody>\n",
       "    <tr>\n",
       "      <th>476</th>\n",
       "      <td>группа_1</td>\n",
       "      <td>95</td>\n",
       "      <td>3.010291</td>\n",
       "      <td>2.156346</td>\n",
       "      <td>57.455851</td>\n",
       "    </tr>\n",
       "    <tr>\n",
       "      <th>315</th>\n",
       "      <td>группа_5</td>\n",
       "      <td>77</td>\n",
       "      <td>0.190277</td>\n",
       "      <td>-9.934550</td>\n",
       "      <td>62.694177</td>\n",
       "    </tr>\n",
       "    <tr>\n",
       "      <th>490</th>\n",
       "      <td>группа_4</td>\n",
       "      <td>96</td>\n",
       "      <td>-0.282161</td>\n",
       "      <td>9.211071</td>\n",
       "      <td>54.688895</td>\n",
       "    </tr>\n",
       "    <tr>\n",
       "      <th>748</th>\n",
       "      <td>группа_3</td>\n",
       "      <td>56</td>\n",
       "      <td>1.127080</td>\n",
       "      <td>-12.391793</td>\n",
       "      <td>30.192353</td>\n",
       "    </tr>\n",
       "    <tr>\n",
       "      <th>471</th>\n",
       "      <td>группа_5</td>\n",
       "      <td>52</td>\n",
       "      <td>-1.238270</td>\n",
       "      <td>10.938748</td>\n",
       "      <td>52.682052</td>\n",
       "    </tr>\n",
       "  </tbody>\n",
       "</table>\n",
       "</div>"
      ],
      "text/plain": [
       "       groups  uniform   gauss_1    gauss_2    gauss_3\n",
       "476  группа_1       95  3.010291   2.156346  57.455851\n",
       "315  группа_5       77  0.190277  -9.934550  62.694177\n",
       "490  группа_4       96 -0.282161   9.211071  54.688895\n",
       "748  группа_3       56  1.127080 -12.391793  30.192353\n",
       "471  группа_5       52 -1.238270  10.938748  52.682052"
      ]
     },
     "execution_count": 15,
     "metadata": {},
     "output_type": "execute_result"
    }
   ],
   "source": [
    "df.head()"
   ]
  },
  {
   "attachments": {},
   "cell_type": "markdown",
   "metadata": {},
   "source": [
    "1. Сколько всего получилось записей в таблице после выполнения всех пунктов из условия?\n"
   ]
  },
  {
   "cell_type": "code",
   "execution_count": 16,
   "metadata": {},
   "outputs": [
    {
     "data": {
      "text/plain": [
       "992"
      ]
     },
     "execution_count": 16,
     "metadata": {},
     "output_type": "execute_result"
    }
   ],
   "source": [
    "df.shape[0]"
   ]
  },
  {
   "attachments": {},
   "cell_type": "markdown",
   "metadata": {},
   "source": [
    "2. Для колонки gauss_2 посчитать среднее и среднеквадратическое отклонение.\n",
    "\n",
    "Результаты необходимо написать в одну ячейку, разделенные пробелом, сначала среднее потом среднеквадратическое отклонение. Результаты округлить до сотых. Для дробной части использовать точку, как разделитель."
   ]
  },
  {
   "cell_type": "code",
   "execution_count": 17,
   "metadata": {},
   "outputs": [
    {
     "data": {
      "text/plain": [
       "(-0.47, 12.07)"
      ]
     },
     "execution_count": 17,
     "metadata": {},
     "output_type": "execute_result"
    }
   ],
   "source": [
    "round(df['gauss_2'].mean(), 2), round(df['gauss_2'].std(), 2)"
   ]
  },
  {
   "attachments": {},
   "cell_type": "markdown",
   "metadata": {},
   "source": [
    "3. Какая группа встречается чаще всего и сколько раз?\n",
    "\n",
    "Сначала вывести название группы, через пробел указать целое число."
   ]
  },
  {
   "cell_type": "code",
   "execution_count": 18,
   "metadata": {},
   "outputs": [
    {
     "data": {
      "text/plain": [
       "groups\n",
       "группа_4    222\n",
       "группа_1    215\n",
       "группа_2    194\n",
       "группа_3    184\n",
       "группа_5    177\n",
       "dtype: int64"
      ]
     },
     "execution_count": 18,
     "metadata": {},
     "output_type": "execute_result"
    }
   ],
   "source": [
    "df.groupby('groups').size().sort_values(ascending=False)"
   ]
  },
  {
   "attachments": {},
   "cell_type": "markdown",
   "metadata": {},
   "source": [
    "4.  Для группа_5 вывести самый \"ранний\" (наименьший) индекс."
   ]
  },
  {
   "cell_type": "code",
   "execution_count": 19,
   "metadata": {},
   "outputs": [
    {
     "data": {
      "text/plain": [
       "6"
      ]
     },
     "execution_count": 19,
     "metadata": {},
     "output_type": "execute_result"
    }
   ],
   "source": [
    "df[df['groups'] == 'группа_5'].index.min()"
   ]
  },
  {
   "attachments": {},
   "cell_type": "markdown",
   "metadata": {},
   "source": [
    "5. Сколько записей из колонки uniform имеют значение не ниже значения 90% перцентиля?"
   ]
  },
  {
   "cell_type": "code",
   "execution_count": 20,
   "metadata": {},
   "outputs": [
    {
     "data": {
      "text/plain": [
       "118"
      ]
     },
     "execution_count": 20,
     "metadata": {},
     "output_type": "execute_result"
    }
   ],
   "source": [
    "df[df['uniform'] >= np.percentile(df['uniform'].values, 90)].shape[0]"
   ]
  },
  {
   "attachments": {},
   "cell_type": "markdown",
   "metadata": {},
   "source": [
    "6. У какой группы наибольшее значение медианы для gauss_3?\n",
    "\n",
    "Вывести это значение вместе с группой. Сначала группа, через пробел значение медианы (результат округлить до сотых , для дробной части использовать точку, как разделитель)"
   ]
  },
  {
   "cell_type": "code",
   "execution_count": 21,
   "metadata": {},
   "outputs": [
    {
     "data": {
      "text/plain": [
       "groups\n",
       "группа_2    49.990529\n",
       "группа_5    49.936910\n",
       "группа_1    49.876708\n",
       "группа_3    49.459261\n",
       "группа_4    49.069511\n",
       "Name: gauss_3, dtype: float64"
      ]
     },
     "execution_count": 21,
     "metadata": {},
     "output_type": "execute_result"
    }
   ],
   "source": [
    "df.groupby('groups').median()['gauss_3'].sort_values(ascending=False)"
   ]
  },
  {
   "attachments": {},
   "cell_type": "markdown",
   "metadata": {},
   "source": [
    "7. У какой группы наибольшее минимальное значение uniform?\n",
    "\n",
    "Если такого нет, выбрать группу наибольшим минимальным значением в gauss_1.\n",
    "\n",
    "Ответ дать в виде группы, через пробел указать значение в gauss_2 (результат округлить до сотых, для дробной части использовать точку, как разделитель)\n",
    "\n"
   ]
  },
  {
   "cell_type": "code",
   "execution_count": 22,
   "metadata": {},
   "outputs": [
    {
     "data": {
      "text/plain": [
       "groups\n",
       "группа_1    50\n",
       "группа_2    50\n",
       "группа_3    50\n",
       "группа_4    50\n",
       "группа_5    50\n",
       "Name: uniform, dtype: int64"
      ]
     },
     "execution_count": 22,
     "metadata": {},
     "output_type": "execute_result"
    }
   ],
   "source": [
    "df.groupby('groups').min()['uniform']"
   ]
  },
  {
   "cell_type": "code",
   "execution_count": 23,
   "metadata": {},
   "outputs": [
    {
     "data": {
      "text/plain": [
       "groups\n",
       "группа_3   -2.606773\n",
       "группа_5   -2.639733\n",
       "группа_2   -2.692705\n",
       "группа_1   -3.628448\n",
       "группа_4   -3.933254\n",
       "Name: gauss_1, dtype: float64"
      ]
     },
     "execution_count": 23,
     "metadata": {},
     "output_type": "execute_result"
    }
   ],
   "source": [
    "df.groupby('groups').min()['gauss_1'].sort_values(ascending=False)"
   ]
  },
  {
   "cell_type": "code",
   "execution_count": 24,
   "metadata": {},
   "outputs": [
    {
     "data": {
      "text/html": [
       "<div>\n",
       "<style scoped>\n",
       "    .dataframe tbody tr th:only-of-type {\n",
       "        vertical-align: middle;\n",
       "    }\n",
       "\n",
       "    .dataframe tbody tr th {\n",
       "        vertical-align: top;\n",
       "    }\n",
       "\n",
       "    .dataframe thead th {\n",
       "        text-align: right;\n",
       "    }\n",
       "</style>\n",
       "<table border=\"1\" class=\"dataframe\">\n",
       "  <thead>\n",
       "    <tr style=\"text-align: right;\">\n",
       "      <th></th>\n",
       "      <th>uniform</th>\n",
       "      <th>gauss_1</th>\n",
       "      <th>gauss_2</th>\n",
       "      <th>gauss_3</th>\n",
       "    </tr>\n",
       "    <tr>\n",
       "      <th>groups</th>\n",
       "      <th></th>\n",
       "      <th></th>\n",
       "      <th></th>\n",
       "      <th></th>\n",
       "    </tr>\n",
       "  </thead>\n",
       "  <tbody>\n",
       "    <tr>\n",
       "      <th>группа_1</th>\n",
       "      <td>50</td>\n",
       "      <td>-3.628448</td>\n",
       "      <td>-22.109394</td>\n",
       "      <td>21.111701</td>\n",
       "    </tr>\n",
       "    <tr>\n",
       "      <th>группа_2</th>\n",
       "      <td>50</td>\n",
       "      <td>-2.692705</td>\n",
       "      <td>-38.365537</td>\n",
       "      <td>26.063885</td>\n",
       "    </tr>\n",
       "    <tr>\n",
       "      <th>группа_3</th>\n",
       "      <td>50</td>\n",
       "      <td>-2.606773</td>\n",
       "      <td>-36.187520</td>\n",
       "      <td>27.741795</td>\n",
       "    </tr>\n",
       "    <tr>\n",
       "      <th>группа_4</th>\n",
       "      <td>50</td>\n",
       "      <td>-3.933254</td>\n",
       "      <td>-29.901064</td>\n",
       "      <td>19.682732</td>\n",
       "    </tr>\n",
       "    <tr>\n",
       "      <th>группа_5</th>\n",
       "      <td>50</td>\n",
       "      <td>-2.639733</td>\n",
       "      <td>-40.394911</td>\n",
       "      <td>29.945906</td>\n",
       "    </tr>\n",
       "  </tbody>\n",
       "</table>\n",
       "</div>"
      ],
      "text/plain": [
       "          uniform   gauss_1    gauss_2    gauss_3\n",
       "groups                                           \n",
       "группа_1       50 -3.628448 -22.109394  21.111701\n",
       "группа_2       50 -2.692705 -38.365537  26.063885\n",
       "группа_3       50 -2.606773 -36.187520  27.741795\n",
       "группа_4       50 -3.933254 -29.901064  19.682732\n",
       "группа_5       50 -2.639733 -40.394911  29.945906"
      ]
     },
     "execution_count": 24,
     "metadata": {},
     "output_type": "execute_result"
    }
   ],
   "source": [
    "df.groupby('groups').min()"
   ]
  },
  {
   "attachments": {},
   "cell_type": "markdown",
   "metadata": {},
   "source": [
    "8. Создать новую колонку gauss где значения будут получаться из (gauss_1 + gauss_2) / gauss_3\n",
    "\n",
    "Чему будет равен 70% перцентиль (результат округлить до сотых, для дробной части использовать точку, как разделитель)?"
   ]
  },
  {
   "cell_type": "code",
   "execution_count": 25,
   "metadata": {},
   "outputs": [],
   "source": [
    "df['gauss'] = (df['gauss_1'] + df['gauss_2']) / df['gauss_3']"
   ]
  },
  {
   "cell_type": "code",
   "execution_count": 26,
   "metadata": {},
   "outputs": [
    {
     "data": {
      "text/plain": [
       "0.10641825158661447"
      ]
     },
     "execution_count": 26,
     "metadata": {},
     "output_type": "execute_result"
    }
   ],
   "source": [
    "np.percentile(df['gauss'].values, 70)"
   ]
  }
 ],
 "metadata": {
  "kernelspec": {
   "display_name": "Python 3",
   "language": "python",
   "name": "python3"
  },
  "language_info": {
   "codemirror_mode": {
    "name": "ipython",
    "version": 3
   },
   "file_extension": ".py",
   "mimetype": "text/x-python",
   "name": "python",
   "nbconvert_exporter": "python",
   "pygments_lexer": "ipython3",
   "version": "3.10.10"
  },
  "orig_nbformat": 4
 },
 "nbformat": 4,
 "nbformat_minor": 2
}
